{
 "cells": [
  {
   "cell_type": "markdown",
   "id": "73694145",
   "metadata": {},
   "source": [
    "# Numpy Array's Operations\n"
   ]
  },
  {
   "cell_type": "code",
   "execution_count": 27,
   "id": "c15fe02f",
   "metadata": {},
   "outputs": [],
   "source": [
    "import numpy as np"
   ]
  },
  {
   "cell_type": "code",
   "execution_count": 28,
   "id": "2cbd99ad",
   "metadata": {},
   "outputs": [
    {
     "name": "stdout",
     "output_type": "stream",
     "text": [
      "basic slicing  [3 4 5 6 7]\n",
      "With step  [1 3 5 7]\n",
      "negative  8\n"
     ]
    }
   ],
   "source": [
    "arr = np.array([1,2,3,4,5,6,7,8,9,10])\n",
    "print(\"basic slicing \",arr[2:7])\n",
    "print('With step ',arr[0:8:2])\n",
    "print('negative ',arr[-3])"
   ]
  },
  {
   "cell_type": "code",
   "execution_count": 29,
   "id": "dd780fcd",
   "metadata": {},
   "outputs": [
    {
     "name": "stdout",
     "output_type": "stream",
     "text": [
      "specific element  6\n",
      "Row  [4 5 6]\n",
      "Colomn  [2 5 8]\n"
     ]
    }
   ],
   "source": [
    "arr_2d = np.array(\n",
    "    [\n",
    "        [1,2,3],\n",
    "        [4,5,6],\n",
    "        [7,8,9]\n",
    "    ]\n",
    ")\n",
    "print('specific element ',arr_2d[1,2])\n",
    "print('Row ',arr_2d[1])\n",
    "print('Colomn ',arr_2d[:,1])"
   ]
  },
  {
   "cell_type": "markdown",
   "id": "98148086",
   "metadata": {},
   "source": [
    "## Sorting"
   ]
  },
  {
   "cell_type": "code",
   "execution_count": 30,
   "id": "3c08fe90",
   "metadata": {},
   "outputs": [
    {
     "name": "stdout",
     "output_type": "stream",
     "text": [
      "sorted array [1 1 2 3 3 4 5 5 6 9]\n",
      "sorted 2d array axis 0  [[1 2]\n",
      " [2 2]\n",
      " [3 3]]\n",
      "sorted 2d array axis 1  [[2 3]\n",
      " [1 2]\n",
      " [2 3]]\n"
     ]
    }
   ],
   "source": [
    "unsorted = np.array([3,4,5,6,1,1,2,3,5,9])\n",
    "print('sorted array',np.sort(unsorted))\n",
    "\n",
    "arr_2d_unsorrted = np.array([[3,2],[1,2],[2,3]])\n",
    "print('sorted 2d array axis 0 ',np.sort(arr_2d_unsorrted,axis=0))\n",
    "print('sorted 2d array axis 1 ',np.sort(arr_2d_unsorrted,axis=1))"
   ]
  },
  {
   "cell_type": "markdown",
   "id": "aa9945b3",
   "metadata": {},
   "source": [
    "## Filter array"
   ]
  },
  {
   "cell_type": "code",
   "execution_count": 31,
   "id": "4862d801",
   "metadata": {},
   "outputs": [
    {
     "name": "stdout",
     "output_type": "stream",
     "text": [
      "[2 4 6 8]\n"
     ]
    }
   ],
   "source": [
    "numbers = np.array([1,2,3,4,5,6,7,8])\n",
    "even = numbers[numbers % 2 == 0]\n",
    "print(even)"
   ]
  },
  {
   "cell_type": "markdown",
   "id": "3b17d6b0",
   "metadata": {},
   "source": [
    "## Filter with Mask"
   ]
  },
  {
   "cell_type": "code",
   "execution_count": 32,
   "id": "720d43b1",
   "metadata": {},
   "outputs": [
    {
     "name": "stdout",
     "output_type": "stream",
     "text": [
      "number greater than 5  [6 7 8]\n"
     ]
    }
   ],
   "source": [
    "mask = numbers>5\n",
    "print('number greater than 5 ',numbers[mask])\n"
   ]
  },
  {
   "cell_type": "markdown",
   "id": "b39cb066",
   "metadata": {},
   "source": [
    "## Fancy indexing vs np.where()"
   ]
  },
  {
   "cell_type": "code",
   "execution_count": 33,
   "id": "81fa4a04",
   "metadata": {},
   "outputs": [
    {
     "name": "stdout",
     "output_type": "stream",
     "text": [
      "[1 3 4 5 7 5]\n"
     ]
    }
   ],
   "source": [
    "indices = [0,2,3,4,6,4]\n",
    "print(numbers[indices])"
   ]
  },
  {
   "cell_type": "code",
   "execution_count": 38,
   "id": "d942ba99",
   "metadata": {},
   "outputs": [
    {
     "name": "stdout",
     "output_type": "stream",
     "text": [
      "[6 7 8]\n",
      "[ 1  2  3  4 50 60 70 80]\n"
     ]
    }
   ],
   "source": [
    "where_result = np.where(numbers>5)\n",
    "print(numbers[where_result])\n",
    "\n",
    "condition_result = np.where(numbers>4,numbers*10,numbers)\n",
    "print(condition_result)\n"
   ]
  },
  {
   "cell_type": "markdown",
   "id": "73fd7324",
   "metadata": {},
   "source": [
    "### Add and remove data and merge"
   ]
  },
  {
   "cell_type": "code",
   "execution_count": 41,
   "id": "8e7070ac",
   "metadata": {},
   "outputs": [
    {
     "name": "stdout",
     "output_type": "stream",
     "text": [
      "[5 7 9]\n",
      "[1 2 3 4 5 6]\n"
     ]
    }
   ],
   "source": [
    "arr1= np.array([1,2,3])\n",
    "arr2 = np.array([4,5,6])\n",
    "\n",
    "add = arr1 + arr2\n",
    "print(add)\n",
    "\n",
    "combined = np.concatenate((arr1,arr2))\n",
    "print(combined)\n",
    "\n"
   ]
  },
  {
   "cell_type": "markdown",
   "id": "b25b0044",
   "metadata": {},
   "source": [
    "### array compataibilty"
   ]
  },
  {
   "cell_type": "code",
   "execution_count": 43,
   "id": "dcd65b8c",
   "metadata": {},
   "outputs": [
    {
     "name": "stdout",
     "output_type": "stream",
     "text": [
      "compatibitlity is  True\n",
      "compatibitlity is  False\n"
     ]
    }
   ],
   "source": [
    "a=np.array([1,2,3])\n",
    "b=np.array([4,5,6])\n",
    "c=np.array([7,8,9,0])\n",
    "\n",
    "print('compatibitlity is ',a.shape == b.shape)\n",
    "print('compatibitlity is ',c.shape == b.shape)"
   ]
  },
  {
   "cell_type": "code",
   "execution_count": 50,
   "id": "c13c225e",
   "metadata": {},
   "outputs": [
    {
     "name": "stdout",
     "output_type": "stream",
     "text": [
      "new row added \n",
      " [[1 2]\n",
      " [3 4]\n",
      " [5 6]]\n",
      "col added \n",
      " [[1 2 7]\n",
      " [3 4 8]]\n"
     ]
    }
   ],
   "source": [
    "orignial = np.array([[1,2],[3,4]])\n",
    "new_row = np.array([[5,6]])\n",
    "\n",
    "with_new_row = np.vstack((orignial,new_row))\n",
    "print('new row added \\n',with_new_row)\n",
    "new_col = np.array([[7],[8]])\n",
    "with_new_col =np.hstack((orignial,new_col))\n",
    "print('col added \\n',with_new_col)"
   ]
  },
  {
   "cell_type": "markdown",
   "id": "332e99dd",
   "metadata": {},
   "source": [
    "### Delete"
   ]
  },
  {
   "cell_type": "code",
   "execution_count": 53,
   "id": "ca05a489",
   "metadata": {},
   "outputs": [
    {
     "name": "stdout",
     "output_type": "stream",
     "text": [
      "after deleted  [1 2 4 5]\n",
      "original  [1 2 3 4 5]\n"
     ]
    }
   ],
   "source": [
    "arr = np.array([1,2,3,4,5])\n",
    "deleted = np.delete(arr,2)\n",
    "print(\"after deleted \",deleted)\n",
    "print('original ',arr)"
   ]
  },
  {
   "cell_type": "code",
   "execution_count": null,
   "id": "8fe7d5f5",
   "metadata": {},
   "outputs": [],
   "source": []
  }
 ],
 "metadata": {
  "kernelspec": {
   "display_name": "env",
   "language": "python",
   "name": "python3"
  },
  "language_info": {
   "codemirror_mode": {
    "name": "ipython",
    "version": 3
   },
   "file_extension": ".py",
   "mimetype": "text/x-python",
   "name": "python",
   "nbconvert_exporter": "python",
   "pygments_lexer": "ipython3",
   "version": "3.12.1"
  }
 },
 "nbformat": 4,
 "nbformat_minor": 5
}
