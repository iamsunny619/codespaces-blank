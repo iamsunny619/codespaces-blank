{
 "cells": [
  {
   "cell_type": "markdown",
   "id": "f51f2b73",
   "metadata": {},
   "source": [
    "## Starting with list understanding"
   ]
  },
  {
   "cell_type": "markdown",
   "id": "a882aa38",
   "metadata": {},
   "source": [
    "Given a list of numbers, print each number multiplied by 2"
   ]
  },
  {
   "cell_type": "code",
   "execution_count": 2,
   "id": "4207186c",
   "metadata": {},
   "outputs": [
    {
     "name": "stdout",
     "output_type": "stream",
     "text": [
      "orginal  [1, 2, 3, 4, 5, 6]\n",
      "doubbled  [2, 4, 6, 8, 10, 12]\n"
     ]
    }
   ],
   "source": [
    "nums = [1,2,3,4,5,6]\n",
    "#output shld be - 2,3,6,10,12\n",
    "\n",
    "doubbled = [num*2 for num in nums]\n",
    "print('orginal ',nums)\n",
    "print('doubbled ',doubbled)\n"
   ]
  },
  {
   "cell_type": "markdown",
   "id": "5a5c1c45",
   "metadata": {},
   "source": [
    "Given a list of words, convert them all to uppercase\n"
   ]
  },
  {
   "cell_type": "code",
   "execution_count": 3,
   "id": "66dfebd7",
   "metadata": {},
   "outputs": [
    {
     "name": "stdout",
     "output_type": "stream",
     "text": [
      "og  ['cat', 'dog', 'fish']\n",
      "caps  ['CAT', 'DOG', 'FISH']\n"
     ]
    }
   ],
   "source": [
    "words = ['cat','dog','fish']\n",
    "#output - CAT DOG FISH\n",
    "\n",
    "capWords = [word.upper() for word in words] #capatilize will make first aplap to captial\n",
    "print('og ',words)\n",
    "print('caps ',capWords)"
   ]
  },
  {
   "cell_type": "markdown",
   "id": "b73e1d47",
   "metadata": {},
   "source": [
    "Square each number in the list using map()\n",
    "\n",
    "Syntax:\n",
    "map(function,iterables)\n",
    "\n",
    "function- a logic/process, which has to applied on iterables current object[each object]\n",
    "iterables- anny collection \n",
    "\n",
    "map retuns a MAP object, that can be later converted to any collection type"
   ]
  },
  {
   "cell_type": "code",
   "execution_count": 4,
   "id": "6b276efc",
   "metadata": {},
   "outputs": [
    {
     "name": "stdout",
     "output_type": "stream",
     "text": [
      "og  [2, 4, 5]\n",
      "squared [4, 16, 25]\n"
     ]
    }
   ],
   "source": [
    "numbers = [2,4,5]\n",
    "#output - 4,16,25\n",
    "def getSquared(curr):\n",
    "    return curr * curr\n",
    "\n",
    "squared = map(getSquared,numbers) #map returns map object, which can be converted to any iterable we want\n",
    "print('og ',numbers)\n",
    "print('squared',list(squared))"
   ]
  },
  {
   "cell_type": "markdown",
   "id": "d167ffc2",
   "metadata": {},
   "source": [
    "Filter out all the numbers less than 10 from the list using filter()\n",
    "\n",
    "A filter selects element form the iterable based on the result of logic/function\n",
    "syntax:\n",
    "\n",
    "filter(function,iterable)\n",
    "\n",
    "function- method that has logic , which will run for each item of iterables\n",
    "iterable- list, rray etc.\n",
    "\n",
    "filter retrun a value from each element"
   ]
  },
  {
   "cell_type": "code",
   "execution_count": 5,
   "id": "06b63a9d",
   "metadata": {},
   "outputs": [
    {
     "name": "stdout",
     "output_type": "stream",
     "text": [
      "og  [10, 20, 30, 4, 15, 16, 40, 39]\n",
      "filtered  [20, 30, 40, 39]\n"
     ]
    }
   ],
   "source": [
    "peopleAge = [10,20,30,4,15,16,40,39]\n",
    "# output - 20,20,40,39\n",
    "\n",
    "def getFilteredAge(age):\n",
    "    if(age>17):\n",
    "        return True\n",
    "    else:\n",
    "        return False\n",
    "\n",
    "filteredAge = filter(getFilteredAge,peopleAge)\n",
    "print('og ',peopleAge)\n",
    "print('filtered ',list(filteredAge))"
   ]
  },
  {
   "cell_type": "markdown",
   "id": "95853845",
   "metadata": {},
   "source": [
    "Dictonary\n",
    "\n",
    "\n",
    "Given a dictonary of student and their marks, print only who scored above 50 "
   ]
  },
  {
   "cell_type": "code",
   "execution_count": 13,
   "id": "2f2ab236",
   "metadata": {},
   "outputs": [
    {
     "name": "stdout",
     "output_type": "stream",
     "text": [
      "{'Anny': 45, 'John': 44, 'eminem': 46}\n"
     ]
    }
   ],
   "source": [
    "marks = {\n",
    "    'Anny':45,\n",
    "    'John':44,\n",
    "    'idiot':10,\n",
    "    'eminem':46\n",
    "}\n",
    "'''\n",
    "for key in marks:\n",
    "    if(marks[key]>40):\n",
    "        print(marks[key])'''\n",
    "\n",
    "def isPassed(obj):\n",
    "    key,value = obj\n",
    "    return value>40\n",
    "\n",
    "passedStudent = dict(filter(isPassed,marks.items()))\n",
    "print(passedStudent)"
   ]
  }
 ],
 "metadata": {
  "kernelspec": {
   "display_name": "env",
   "language": "python",
   "name": "python3"
  },
  "language_info": {
   "codemirror_mode": {
    "name": "ipython",
    "version": 3
   },
   "file_extension": ".py",
   "mimetype": "text/x-python",
   "name": "python",
   "nbconvert_exporter": "python",
   "pygments_lexer": "ipython3",
   "version": "3.12.1"
  }
 },
 "nbformat": 4,
 "nbformat_minor": 5
}
