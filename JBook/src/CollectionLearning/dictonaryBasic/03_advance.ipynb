{
 "cells": [
  {
   "cell_type": "markdown",
   "id": "fa72347a",
   "metadata": {},
   "source": [
    "# Advance learning for collection, with complex data "
   ]
  },
  {
   "cell_type": "code",
   "execution_count": 9,
   "id": "a021fe5d",
   "metadata": {},
   "outputs": [],
   "source": [
    "company = {\n",
    "    \"name\": \"TechFusion\",\n",
    "    \"departments\": [\n",
    "        {\n",
    "            \"dept_id\": 1,\n",
    "            \"dept_name\": \"Engineering\",\n",
    "            \"employees\": [\n",
    "                {\"id\": 101, \"name\": \"Alice\", \"skills\": {\"Python\", \"C++\", \"Docker\"}, \"projects\": [(\"AI\", 2024), (\"ML\", 2025)], \"salary\": 85000},\n",
    "                {\"id\": 102, \"name\": \"Bob\", \"skills\": {\"UI/UX\", \"Photoshop\"}, \"projects\": [(\"Website\", 2023)], \"salary\": 65000},\n",
    "            ]\n",
    "        },\n",
    "        {\n",
    "            \"dept_id\": 2,\n",
    "            \"dept_name\": \"HR\",\n",
    "            \"employees\": [\n",
    "                {\"id\": 201, \"name\": \"Charlie\", \"skills\": {\"Recruitment\", \"Excel\"}, \"projects\": [], \"salary\": 50000},\n",
    "                {\"id\": 202, \"name\": \"Daisy\", \"skills\": {\"Communication\", \"Negotiation\"}, \"projects\": [(\"Policy Draft\", 2024)], \"salary\": 55000}\n",
    "            ]\n",
    "        },\n",
    "        {\n",
    "            \"dept_id\": 3,\n",
    "            \"dept_name\": \"R&D\",\n",
    "            \"employees\": [\n",
    "                {\"id\": 301, \"name\": \"Eve\", \"skills\": {\"AI\", \"Python\", \"Deep Learning\"}, \"projects\": [(\"Robotics\", 2026), (\"Vision\", 2027)], \"salary\": 120000},\n",
    "                {\"id\": 302, \"name\": \"Frank\", \"skills\": {\"IoT\", \"C\"}, \"projects\": [(\"Embedded\", 2024)], \"salary\": -1}  # invalid salary edge case\n",
    "            ]\n",
    "        }\n",
    "    ],\n",
    "    \"locations\": {\"HQ\": \"New York\", \"India\": \"Bangalore\", \"Remote\": {\"count\": 25, \"tools\": [\"Zoom\", \"Slack\"]}}\n",
    "}"
   ]
  },
  {
   "cell_type": "markdown",
   "id": "d55170de",
   "metadata": {},
   "source": [
    "print all Deparment Names"
   ]
  },
  {
   "cell_type": "code",
   "execution_count": 10,
   "id": "3d43cf05",
   "metadata": {},
   "outputs": [
    {
     "name": "stdout",
     "output_type": "stream",
     "text": [
      "['Engineering', 'HR', 'R&D']\n"
     ]
    }
   ],
   "source": [
    "departments = company.get('departments')\n",
    "\n",
    "names = [department.get('dept_name') for department in departments]\n",
    "print(names)"
   ]
  },
  {
   "cell_type": "markdown",
   "id": "6e3c52a1",
   "metadata": {},
   "source": [
    "Find all employees who have \"Python\" in their skills set."
   ]
  },
  {
   "cell_type": "code",
   "execution_count": 17,
   "id": "40db66a0",
   "metadata": {},
   "outputs": [
    {
     "name": "stdout",
     "output_type": "stream",
     "text": [
      "[{'id': 101, 'name': 'Alice', 'skills': {'Python', 'C++', 'Docker'}, 'projects': [('AI', 2024), ('ML', 2025)], 'salary': 85000}, {'id': 301, 'name': 'Eve', 'skills': {'Python', 'Deep Learning', 'AI'}, 'projects': [('Robotics', 2026), ('Vision', 2027)], 'salary': 120000}]\n"
     ]
    }
   ],
   "source": [
    "obj=[]\n",
    "for department in departments:\n",
    "    employees = department.get('employees')\n",
    "    for emp in employees:\n",
    "        if 'Python' in emp.get('skills'):\n",
    "            obj.append(emp)\n",
    "\n",
    "print(obj)\n"
   ]
  },
  {
   "cell_type": "markdown",
   "id": "cdff0f40",
   "metadata": {},
   "source": [
    "Now, we will use list comperhesion way, which will reduce mst of the line"
   ]
  },
  {
   "cell_type": "code",
   "execution_count": 19,
   "id": "3b109ccd",
   "metadata": {},
   "outputs": [
    {
     "name": "stdout",
     "output_type": "stream",
     "text": [
      "{101: 'Alice', 301: 'Eve'}\n",
      "[{'id': 101, 'name': 'Alice', 'skills': {'Python', 'C++', 'Docker'}, 'projects': [('AI', 2024), ('ML', 2025)], 'salary': 85000}, {'id': 301, 'name': 'Eve', 'skills': {'Python', 'Deep Learning', 'AI'}, 'projects': [('Robotics', 2026), ('Vision', 2027)], 'salary': 120000}]\n"
     ]
    }
   ],
   "source": [
    "obj1={emp['id']:emp['name']\n",
    "      for department in departments\n",
    "      for emp in department.get('employees')\n",
    "      if 'Python' in emp.get('skills')\n",
    "}\n",
    "\n",
    "obj2=[\n",
    "    emp\n",
    "    for department in departments\n",
    "    for emp in department.get('employees')\n",
    "    if 'Python' in emp.get('skills')\n",
    "]\n",
    "\n",
    "print(obj1)\n",
    "print(obj2)"
   ]
  }
 ],
 "metadata": {
  "kernelspec": {
   "display_name": "env",
   "language": "python",
   "name": "python3"
  },
  "language_info": {
   "codemirror_mode": {
    "name": "ipython",
    "version": 3
   },
   "file_extension": ".py",
   "mimetype": "text/x-python",
   "name": "python",
   "nbconvert_exporter": "python",
   "pygments_lexer": "ipython3",
   "version": "3.12.1"
  }
 },
 "nbformat": 4,
 "nbformat_minor": 5
}
