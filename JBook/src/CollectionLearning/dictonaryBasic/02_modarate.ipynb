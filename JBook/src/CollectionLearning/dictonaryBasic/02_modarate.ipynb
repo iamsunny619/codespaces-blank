{
 "cells": [
  {
   "cell_type": "markdown",
   "id": "b5ac5feb",
   "metadata": {},
   "source": [
    "# Iteration of complex and nested object/list"
   ]
  },
  {
   "cell_type": "code",
   "execution_count": 1,
   "id": "1f917d5c",
   "metadata": {},
   "outputs": [],
   "source": [
    "employees = [\n",
    "    {\"id\": 101, \"name\": \"Alice\", \"role\": \"Developer\", \"salary\": 55000, \"color\": \"Blue\"},\n",
    "    {\"id\": 102, \"name\": \"Bob\", \"role\": \"Designer\", \"salary\": 48000, \"color\": \"Red\"},\n",
    "    {\"id\": 103, \"name\": \"Charlie\", \"role\": \"Manager\", \"salary\": 72000, \"color\": \"Green\"},\n",
    "    {\"id\": 104, \"name\": \"Daisy\", \"role\": \"Intern\", \"salary\": -5, \"color\": \"Yellow\"},\n",
    "    {\"id\": 105, \"name\": \"Eve\", \"role\": \"HR\", \"salary\": 50000, \"color\": \"Purple\"}\n",
    "]"
   ]
  },
  {
   "cell_type": "markdown",
   "id": "ef045029",
   "metadata": {},
   "source": [
    "Print the names of all employees."
   ]
  },
  {
   "cell_type": "code",
   "execution_count": 3,
   "id": "ef2fa5a9",
   "metadata": {},
   "outputs": [
    {
     "name": "stdout",
     "output_type": "stream",
     "text": [
      "Alice\n",
      "Bob\n",
      "Charlie\n",
      "Daisy\n",
      "Eve\n"
     ]
    }
   ],
   "source": [
    "for employee in employees:\n",
    "    print(employee.get('name'))"
   ]
  },
  {
   "cell_type": "markdown",
   "id": "49ca1664",
   "metadata": {},
   "source": [
    "Print the salary of Bob.\n",
    "\n",
    "employees = [\n",
    "    {\"id\": 101, \"name\": \"Alice\", \"role\": \"Developer\", \"salary\": 55000, \"color\": \"Blue\"},\n",
    "    {\"id\": 102, \"name\": \"Bob\", \"role\": \"Designer\", \"salary\": 48000, \"color\": \"Red\"},\n",
    "    {\"id\": 103, \"name\": \"Charlie\", \"role\": \"Manager\", \"salary\": 72000, \"color\": \"Green\"},\n",
    "    {\"id\": 104, \"name\": \"Daisy\", \"role\": \"Intern\", \"salary\": -5, \"color\": \"Yellow\"},\n",
    "    {\"id\": 105, \"name\": \"Eve\", \"role\": \"HR\", \"salary\": 50000, \"color\": \"Purple\"}\n",
    "]\n"
   ]
  },
  {
   "cell_type": "code",
   "execution_count": 2,
   "id": "a2bad6ca",
   "metadata": {},
   "outputs": [
    {
     "name": "stdout",
     "output_type": "stream",
     "text": [
      "48000\n"
     ]
    }
   ],
   "source": [
    "for employee in employees:\n",
    "    if(employee.get('name') == 'Bob'):\n",
    "        print(employee.get('salary'))"
   ]
  },
  {
   "cell_type": "code",
   "execution_count": 5,
   "id": "570735ba",
   "metadata": {},
   "outputs": [
    {
     "name": "stdout",
     "output_type": "stream",
     "text": [
      "[48000]\n"
     ]
    }
   ],
   "source": [
    "bobSal = [employee.get('salary') for employee in employees if employee.get('name')=='Bob']\n",
    "print(bobSal)"
   ]
  },
  {
   "cell_type": "markdown",
   "id": "b79da6d8",
   "metadata": {},
   "source": [
    "Find all employees with salary greater than 50,000.\n",
    "\n",
    "employees = [\n",
    "    {\"id\": 101, \"name\": \"Alice\", \"role\": \"Developer\", \"salary\": 55000, \"color\": \"Blue\"},\n",
    "    {\"id\": 102, \"name\": \"Bob\", \"role\": \"Designer\", \"salary\": 48000, \"color\": \"Red\"},\n",
    "    {\"id\": 103, \"name\": \"Charlie\", \"role\": \"Manager\", \"salary\": 72000, \"color\": \"Green\"},\n",
    "    {\"id\": 104, \"name\": \"Daisy\", \"role\": \"Intern\", \"salary\": -5, \"color\": \"Yellow\"},\n",
    "    {\"id\": 105, \"name\": \"Eve\", \"role\": \"HR\", \"salary\": 50000, \"color\": \"Purple\"}\n",
    "]"
   ]
  },
  {
   "cell_type": "code",
   "execution_count": 6,
   "id": "6d78d12d",
   "metadata": {},
   "outputs": [
    {
     "name": "stdout",
     "output_type": "stream",
     "text": [
      "['Alice', 'Charlie']\n"
     ]
    }
   ],
   "source": [
    "salries = [employee.get('name') for employee in employees if employee.get('salary')>50000]\n",
    "print(salries)"
   ]
  }
 ],
 "metadata": {
  "kernelspec": {
   "display_name": "env",
   "language": "python",
   "name": "python3"
  },
  "language_info": {
   "codemirror_mode": {
    "name": "ipython",
    "version": 3
   },
   "file_extension": ".py",
   "mimetype": "text/x-python",
   "name": "python",
   "nbconvert_exporter": "python",
   "pygments_lexer": "ipython3",
   "version": "3.12.1"
  }
 },
 "nbformat": 4,
 "nbformat_minor": 5
}
