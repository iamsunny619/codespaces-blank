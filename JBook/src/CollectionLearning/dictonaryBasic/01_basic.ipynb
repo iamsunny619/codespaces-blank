{
 "cells": [
  {
   "cell_type": "markdown",
   "id": "2f7ce734",
   "metadata": {},
   "source": [
    "## Python Dictionary Basic and Fundamental"
   ]
  },
  {
   "cell_type": "markdown",
   "id": "595ba126",
   "metadata": {},
   "source": [
    "Python dictionary is same as javascript object \n",
    "\n",
    "Syntax:\n",
    "dict_name = {\n",
    "    key_name1 : value1,\n",
    "    key_name2 : value2\n",
    "}\n",
    "\n",
    "\n",
    "Note:\n",
    "- dict keys must be immutable, such as tuples,sting,integer etc.\n",
    "- we can use dict() built in method by python to create dictionary."
   ]
  },
  {
   "cell_type": "code",
   "execution_count": 2,
   "id": "a7b51c3e",
   "metadata": {},
   "outputs": [
    {
     "name": "stdout",
     "output_type": "stream",
     "text": [
      "{'name': 'Alice', 'age': 25, 'city': 'Delhi'}\n"
     ]
    }
   ],
   "source": [
    "basic_dict = {\"name\": \"Alice\", \"age\": 25, \"city\": \"Delhi\"}\n",
    "print(basic_dict)"
   ]
  },
  {
   "cell_type": "code",
   "execution_count": 3,
   "id": "b843358a",
   "metadata": {},
   "outputs": [
    {
     "name": "stdout",
     "output_type": "stream",
     "text": [
      "Anny\n",
      "27\n"
     ]
    }
   ],
   "source": [
    "basic_dict = {\"name\": \"Anny\", \"age\": 27, \"city\": \"Delhi\"}\n",
    "print(basic_dict['name'])\n",
    "print(basic_dict.get('age'))"
   ]
  },
  {
   "cell_type": "code",
   "execution_count": 4,
   "id": "023f165a",
   "metadata": {},
   "outputs": [
    {
     "name": "stdout",
     "output_type": "stream",
     "text": [
      "{'name': 'Anny', 'age': 27, 'city': 'Delhi', 'gender': 'Male', 'data1': 'some random data', 'data2': 'some another random'}\n",
      "{'name': 'Anny', 'age': 27, 'city': 'Delhi', 'gender': 'Male', 'data2': 'some another random'}\n",
      "some another random\n",
      "{'name': 'Anny', 'age': 27, 'city': 'Delhi', 'gender': 'Male'}\n"
     ]
    }
   ],
   "source": [
    "basic_dict['gender']= 'Male'\n",
    "basic_dict['data1'] = 'some random data'\n",
    "basic_dict['data2'] = 'some another random'\n",
    "print(basic_dict)\n",
    "\n",
    "del basic_dict['data1']\n",
    "print(basic_dict)\n",
    "popped = basic_dict.pop('data2')\n",
    "print(popped)\n",
    "print(basic_dict)"
   ]
  },
  {
   "cell_type": "code",
   "execution_count": 5,
   "id": "d6d97700",
   "metadata": {},
   "outputs": [
    {
     "name": "stdout",
     "output_type": "stream",
     "text": [
      "{'name': 'Anny', 'age': 27, 'city': 'Delhi', 'gender': 'Male', 'color': 'white', 'veg': True, 'id': 619}\n"
     ]
    }
   ],
   "source": [
    "extra_dict = {\n",
    "    'color':'white',\n",
    "    'veg': True,\n",
    "    'id':619\n",
    "}\n",
    "\n",
    "basic_dict.update(extra_dict)\n",
    "print(basic_dict)"
   ]
  },
  {
   "cell_type": "code",
   "execution_count": 6,
   "id": "73ddde26",
   "metadata": {},
   "outputs": [
    {
     "name": "stdout",
     "output_type": "stream",
     "text": [
      "7\n",
      "Anny\n",
      "27\n",
      "Delhi\n",
      "Male\n",
      "white\n",
      "True\n",
      "619\n"
     ]
    }
   ],
   "source": [
    "print(len(basic_dict))\n",
    "for keys in basic_dict:\n",
    "    print(basic_dict[keys])"
   ]
  },
  {
   "cell_type": "code",
   "execution_count": 11,
   "id": "df12c144",
   "metadata": {},
   "outputs": [
    {
     "name": "stdout",
     "output_type": "stream",
     "text": [
      "{'marks': {'math': 85, 'science': 92, 'english': 78}, 'newList': {'days': [1, 2, 3], 'digit': {1: 1, 2: 2}}}\n"
     ]
    }
   ],
   "source": [
    "complex_dict = {\n",
    "    \"student_id\": 101,\n",
    "    \"name\": \"Rahul\",\n",
    "    \"marks\": {\"math\": 85, \"science\": 92, \"english\": 78},\n",
    "    \"attendance\": 87.5\n",
    "}\n",
    "dictNew = {\n",
    "    'gender':'male',\n",
    "    20:'20',\n",
    "    'newList':{\n",
    "        'days':[1,2,3],\n",
    "        'digit':{1:1,2:2}\n",
    "    }\n",
    "}\n",
    "complex_dict.update(dictNew)\n",
    "def isObj(obj):\n",
    "    key,value =obj\n",
    "    if type(value) == dict:\n",
    "        return True\n",
    "    \n",
    "allObj = dict(filter(isObj,complex_dict.items()))\n",
    "print(allObj)\n"
   ]
  }
 ],
 "metadata": {
  "kernelspec": {
   "display_name": "env",
   "language": "python",
   "name": "python3"
  },
  "language_info": {
   "codemirror_mode": {
    "name": "ipython",
    "version": 3
   },
   "file_extension": ".py",
   "mimetype": "text/x-python",
   "name": "python",
   "nbconvert_exporter": "python",
   "pygments_lexer": "ipython3",
   "version": "3.12.1"
  }
 },
 "nbformat": 4,
 "nbformat_minor": 5
}
