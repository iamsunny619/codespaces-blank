{
 "cells": [
  {
   "cell_type": "markdown",
   "id": "45dbe049",
   "metadata": {},
   "source": [
    "## Numpy array and basic"
   ]
  },
  {
   "cell_type": "code",
   "execution_count": 3,
   "id": "3d42e349",
   "metadata": {},
   "outputs": [],
   "source": [
    "import numpy as np"
   ]
  },
  {
   "cell_type": "markdown",
   "id": "0aa3ec5e",
   "metadata": {},
   "source": [
    "creating array from list [here array is from numpy, where list is array for python]"
   ]
  },
  {
   "cell_type": "code",
   "execution_count": 6,
   "id": "d19527dd",
   "metadata": {},
   "outputs": [
    {
     "name": "stdout",
     "output_type": "stream",
     "text": [
      "[1 2 3 4 5]\n",
      "[[1 2 3]\n",
      " [3 5 6]]\n"
     ]
    }
   ],
   "source": [
    "arr_1d = np.array([1,2,3,4,5])\n",
    "print(arr_1d)\n",
    "\n",
    "arr_2d = np.array([[1,2,3],[3,5,6]])\n",
    "print(arr_2d)"
   ]
  },
  {
   "cell_type": "markdown",
   "id": "6eda2b7f",
   "metadata": {},
   "source": [
    "List vs numpy array"
   ]
  },
  {
   "cell_type": "code",
   "execution_count": 10,
   "id": "9f2f9507",
   "metadata": {},
   "outputs": [
    {
     "name": "stdout",
     "output_type": "stream",
     "text": [
      "[1, 2, 3, 1, 2, 3]\n",
      "[2 4 6]\n"
     ]
    }
   ],
   "source": [
    "py_list = [1,2,3]\n",
    "print(py_list*2)\n",
    "\n",
    "np_array =np.array([1,2,3])\n",
    "print(np_array*2)"
   ]
  },
  {
   "cell_type": "markdown",
   "id": "9a6f0fa0",
   "metadata": {},
   "source": [
    "Creating array from scratch"
   ]
  },
  {
   "cell_type": "code",
   "execution_count": 16,
   "id": "184bb538",
   "metadata": {},
   "outputs": [
    {
     "name": "stdout",
     "output_type": "stream",
     "text": [
      "Zeros array : \n",
      " [[0. 0. 0. 0.]\n",
      " [0. 0. 0. 0.]\n",
      " [0. 0. 0. 0.]]\n",
      "\n",
      " Ones array : \n",
      " [[1. 1. 1. 1.]\n",
      " [1. 1. 1. 1.]\n",
      " [1. 1. 1. 1.]]\n",
      "\n",
      " digit array : \n",
      " [[9 9 9 9]\n",
      " [9 9 9 9]\n",
      " [9 9 9 9]]\n",
      "\n",
      " random array : \n",
      " [[0.57470305 0.46856599 0.15820646 0.69054773]\n",
      " [0.7939895  0.73766914 0.71989378 0.26794694]\n",
      " [0.55049851 0.36794063 0.02915    0.29746109]]\n",
      "\n",
      " sequence array : \n",
      " [0 2 4 6 8]\n"
     ]
    }
   ],
   "source": [
    "zeros = np.zeros((3,4))\n",
    "print('Zeros array : \\n',zeros)\n",
    "\n",
    "ones = np.ones((3,4))\n",
    "print('\\n Ones array : \\n',ones)\n",
    "\n",
    "anySingleDigit = np.full((3,4),9)\n",
    "print('\\n digit array : \\n',anySingleDigit)\n",
    "\n",
    "random = np.random.random((3,4))\n",
    "print('\\n random array : \\n',random)\n",
    "\n",
    "sequence = np.arange(0,10,2)\n",
    "print('\\n sequence array : \\n',sequence)\n",
    "\n"
   ]
  },
  {
   "cell_type": "markdown",
   "id": "f9087bb9",
   "metadata": {},
   "source": [
    "Vector Matix amd Tensor"
   ]
  },
  {
   "cell_type": "code",
   "execution_count": 19,
   "id": "9708cae1",
   "metadata": {},
   "outputs": [
    {
     "name": "stdout",
     "output_type": "stream",
     "text": [
      "vector :  [1 2 3]\n",
      "Matrix :  [[1 2 3]\n",
      " [4 5 6]]\n",
      "tensor  [[[1 2]\n",
      "  [3 4]\n",
      "  [5 6]\n",
      "  [7 8]]]\n"
     ]
    }
   ],
   "source": [
    "vector = np.array([1,2,3])\n",
    "print(\"vector : \",vector)\n",
    "\n",
    "matrix = np.array([[1,2,3],[4,5,6]])\n",
    "print('Matrix : ',matrix)\n",
    "\n",
    "tensor = np.array([[[1,2],[3,4],[5,6],[7,8]]])\n",
    "print('tensor ',tensor)"
   ]
  },
  {
   "cell_type": "markdown",
   "id": "51701ceb",
   "metadata": {},
   "source": [
    "Array Properties\n"
   ]
  },
  {
   "cell_type": "code",
   "execution_count": 22,
   "id": "b9463655",
   "metadata": {},
   "outputs": [
    {
     "name": "stdout",
     "output_type": "stream",
     "text": [
      "shape  (2, 3)\n",
      "dimension  2\n",
      "size  6\n",
      "data Type  int64\n"
     ]
    }
   ],
   "source": [
    "arr =np.array([[1,2,3],[5,6,7]])\n",
    "\n",
    "print('shape ',arr.shape)\n",
    "print('dimension ',arr.ndim)\n",
    "print('size ',arr.size)\n",
    "print('data Type ',arr.dtype)"
   ]
  }
 ],
 "metadata": {
  "kernelspec": {
   "display_name": "venv (3.13.5)",
   "language": "python",
   "name": "python3"
  },
  "language_info": {
   "codemirror_mode": {
    "name": "ipython",
    "version": 3
   },
   "file_extension": ".py",
   "mimetype": "text/x-python",
   "name": "python",
   "nbconvert_exporter": "python",
   "pygments_lexer": "ipython3",
   "version": "3.13.5"
  }
 },
 "nbformat": 4,
 "nbformat_minor": 5
}
